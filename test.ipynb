{
 "cells": [
  {
   "cell_type": "code",
   "execution_count": 1,
   "metadata": {},
   "outputs": [],
   "source": [
    "import pickle\n",
    "import pandas as pd"
   ]
  },
  {
   "cell_type": "code",
   "execution_count": 2,
   "metadata": {},
   "outputs": [],
   "source": [
    "model_file = \"classifier_model.pkl\"\n",
    "data_file = \"test_set.csv\"\n",
    "dataset = pd.read_csv(data_file)\n",
    "with open(model_file, \"rb\") as f:\n",
    "    model = pickle.load(f)"
   ]
  },
  {
   "cell_type": "code",
   "execution_count": 7,
   "metadata": {},
   "outputs": [
    {
     "data": {
      "text/html": [
       "<div>\n",
       "<style scoped>\n",
       "    .dataframe tbody tr th:only-of-type {\n",
       "        vertical-align: middle;\n",
       "    }\n",
       "\n",
       "    .dataframe tbody tr th {\n",
       "        vertical-align: top;\n",
       "    }\n",
       "\n",
       "    .dataframe thead th {\n",
       "        text-align: right;\n",
       "    }\n",
       "</style>\n",
       "<table border=\"1\" class=\"dataframe\">\n",
       "  <thead>\n",
       "    <tr style=\"text-align: right;\">\n",
       "      <th></th>\n",
       "      <th>venue</th>\n",
       "      <th>category</th>\n",
       "    </tr>\n",
       "  </thead>\n",
       "  <tbody>\n",
       "    <tr>\n",
       "      <th>0</th>\n",
       "      <td>Plants</td>\n",
       "      <td>Scopus Journal</td>\n",
       "    </tr>\n",
       "    <tr>\n",
       "      <th>1</th>\n",
       "      <td>Tech. rep.</td>\n",
       "      <td>International Journal</td>\n",
       "    </tr>\n",
       "    <tr>\n",
       "      <th>2</th>\n",
       "      <td>URL: http://crftagger. sourceforge. net</td>\n",
       "      <td>International Journal</td>\n",
       "    </tr>\n",
       "    <tr>\n",
       "      <th>3</th>\n",
       "      <td>R]. http://flexCRF. sourceforge. net</td>\n",
       "      <td>International Journal</td>\n",
       "    </tr>\n",
       "    <tr>\n",
       "      <th>4</th>\n",
       "      <td>Online: http://jvnsegmenter. sourceforge. net</td>\n",
       "      <td>International Journal</td>\n",
       "    </tr>\n",
       "    <tr>\n",
       "      <th>...</th>\n",
       "      <td>...</td>\n",
       "      <td>...</td>\n",
       "    </tr>\n",
       "    <tr>\n",
       "      <th>1126</th>\n",
       "      <td>Scientific Reports</td>\n",
       "      <td>ISI Q1/Q2</td>\n",
       "    </tr>\n",
       "    <tr>\n",
       "      <th>1127</th>\n",
       "      <td>Unknown</td>\n",
       "      <td>International Conf</td>\n",
       "    </tr>\n",
       "    <tr>\n",
       "      <th>1128</th>\n",
       "      <td>Essentials on Dynamic Capabilities for a Conte...</td>\n",
       "      <td>International Conf</td>\n",
       "    </tr>\n",
       "    <tr>\n",
       "      <th>1129</th>\n",
       "      <td>Springer</td>\n",
       "      <td>International Journal</td>\n",
       "    </tr>\n",
       "    <tr>\n",
       "      <th>1130</th>\n",
       "      <td>Springer Nature</td>\n",
       "      <td>International Journal</td>\n",
       "    </tr>\n",
       "  </tbody>\n",
       "</table>\n",
       "<p>1131 rows × 2 columns</p>\n",
       "</div>"
      ],
      "text/plain": [
       "                                                  venue               category\n",
       "0                                                Plants         Scopus Journal\n",
       "1                                            Tech. rep.  International Journal\n",
       "2               URL: http://crftagger. sourceforge. net  International Journal\n",
       "3                  R]. http://flexCRF. sourceforge. net  International Journal\n",
       "4         Online: http://jvnsegmenter. sourceforge. net  International Journal\n",
       "...                                                 ...                    ...\n",
       "1126                                 Scientific Reports              ISI Q1/Q2\n",
       "1127                                            Unknown     International Conf\n",
       "1128  Essentials on Dynamic Capabilities for a Conte...     International Conf\n",
       "1129                                           Springer  International Journal\n",
       "1130                                    Springer Nature  International Journal\n",
       "\n",
       "[1131 rows x 2 columns]"
      ]
     },
     "execution_count": 7,
     "metadata": {},
     "output_type": "execute_result"
    }
   ],
   "source": [
    "\n",
    "# x_test = [\n",
    "#     \"Journal of Physics. B Atomic Molecular and Optical Physics\",\n",
    "#     \"Vietnam Journal of Science Technology and Engineering\",\n",
    "# ]\n",
    "x_test = dataset.iloc[:, 1].values\n",
    "y_pred = model.predict(x_test)\n",
    "y_pred\n",
    "# y_pred.query('venue == \"Sensors\"')"
   ]
  },
  {
   "cell_type": "code",
   "execution_count": null,
   "metadata": {},
   "outputs": [],
   "source": []
  }
 ],
 "metadata": {
  "kernelspec": {
   "display_name": "venv",
   "language": "python",
   "name": "python3"
  },
  "language_info": {
   "codemirror_mode": {
    "name": "ipython",
    "version": 3
   },
   "file_extension": ".py",
   "mimetype": "text/x-python",
   "name": "python",
   "nbconvert_exporter": "python",
   "pygments_lexer": "ipython3",
   "version": "3.10.11"
  }
 },
 "nbformat": 4,
 "nbformat_minor": 2
}
