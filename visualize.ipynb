{
 "cells": [
  {
   "cell_type": "code",
   "execution_count": 1,
   "metadata": {},
   "outputs": [
    {
     "name": "stderr",
     "output_type": "stream",
     "text": [
      "[nltk_data] Downloading package stopwords to\n",
      "[nltk_data]     C:\\Users\\trung\\AppData\\Roaming\\nltk_data...\n",
      "[nltk_data]   Package stopwords is already up-to-date!\n",
      "[nltk_data] Downloading package wordnet to\n",
      "[nltk_data]     C:\\Users\\trung\\AppData\\Roaming\\nltk_data...\n",
      "[nltk_data]   Package wordnet is already up-to-date!\n",
      "[nltk_data] Downloading package punkt to\n",
      "[nltk_data]     C:\\Users\\trung\\AppData\\Roaming\\nltk_data...\n",
      "[nltk_data]   Package punkt is already up-to-date!\n"
     ]
    }
   ],
   "source": [
    "import pandas as pd\n",
    "import numpy as np\n",
    "import matplotlib.pyplot as plt\n",
    "import pandas as pd\n",
    "import re\n",
    "import nltk\n",
    "from nltk.corpus import stopwords\n",
    "nltk.download('stopwords')\n",
    "from nltk.stem import WordNetLemmatizer\n",
    "nltk.download('wordnet')\n",
    "from nltk.tokenize import word_tokenize\n",
    "nltk.download('punkt')\n",
    "from sklearn.feature_extraction.text import CountVectorizer\n",
    "from sklearn.model_selection import train_test_split\n",
    "from sklearn.metrics import accuracy_score\n",
    "from sklearn.metrics import precision_recall_fscore_support as score\n",
    "from sklearn.multiclass import OneVsRestClassifier\n",
    "from sklearn.linear_model import LogisticRegression\n",
    "from sklearn.svm import SVC\n",
    "from sklearn.tree import DecisionTreeClassifier\n",
    "from sklearn.ensemble import RandomForestClassifier\n",
    "from sklearn.neighbors import KNeighborsClassifier\n",
    "from sklearn.naive_bayes import GaussianNB,MultinomialNB\n",
    "from sklearn.model_selection import train_test_split"
   ]
  },
  {
   "cell_type": "code",
   "execution_count": 2,
   "metadata": {},
   "outputs": [
    {
     "name": "stdout",
     "output_type": "stream",
     "text": [
      "<class 'pandas.core.frame.DataFrame'>\n",
      "RangeIndex: 4619 entries, 0 to 4618\n",
      "Data columns (total 3 columns):\n",
      " #   Column    Non-Null Count  Dtype \n",
      "---  ------    --------------  ----- \n",
      " 0   id        4619 non-null   int64 \n",
      " 1   venue     4619 non-null   object\n",
      " 2   category  4619 non-null   object\n",
      "dtypes: int64(1), object(2)\n",
      "memory usage: 108.4+ KB\n"
     ]
    }
   ],
   "source": [
    "dataset = pd.read_csv(\"train_set.csv\")\n",
    "dataset.info()"
   ]
  },
  {
   "cell_type": "code",
   "execution_count": 3,
   "metadata": {},
   "outputs": [
    {
     "data": {
      "text/plain": [
       "category\n",
       "ISI Q1/Q2                1101\n",
       "International Conf       1100\n",
       "Domestic Journal          660\n",
       "Scopus Conf               642\n",
       "ISI Q3/Q4                 268\n",
       "Scopus Journal            261\n",
       "International Journal     219\n",
       "Domestic Conf             205\n",
       "Technical report           74\n",
       "Patent                     48\n",
       "Book chapter               34\n",
       "Book                        7\n",
       "Name: count, dtype: int64"
      ]
     },
     "execution_count": 3,
     "metadata": {},
     "output_type": "execute_result"
    }
   ],
   "source": [
    "dataset[\"category\"].value_counts()"
   ]
  },
  {
   "cell_type": "code",
   "execution_count": 4,
   "metadata": {},
   "outputs": [
    {
     "data": {
      "text/plain": [
       "array(['ISI Q1/Q2', 'ISI Q3/Q4', 'Scopus Journal', 'International Conf',\n",
       "       'Domestic Journal', 'Domestic Conf', 'Book chapter', 'Patent',\n",
       "       'Scopus Conf', 'Book', 'International Journal',\n",
       "       'Technical report '], dtype=object)"
      ]
     },
     "execution_count": 4,
     "metadata": {},
     "output_type": "execute_result"
    }
   ],
   "source": [
    "target_category = dataset['category'].unique()\n",
    "target_category"
   ]
  },
  {
   "cell_type": "code",
   "execution_count": 5,
   "metadata": {},
   "outputs": [
    {
     "data": {
      "text/html": [
       "<div>\n",
       "<style scoped>\n",
       "    .dataframe tbody tr th:only-of-type {\n",
       "        vertical-align: middle;\n",
       "    }\n",
       "\n",
       "    .dataframe tbody tr th {\n",
       "        vertical-align: top;\n",
       "    }\n",
       "\n",
       "    .dataframe thead th {\n",
       "        text-align: right;\n",
       "    }\n",
       "</style>\n",
       "<table border=\"1\" class=\"dataframe\">\n",
       "  <thead>\n",
       "    <tr style=\"text-align: right;\">\n",
       "      <th></th>\n",
       "      <th>id</th>\n",
       "      <th>venue</th>\n",
       "      <th>category</th>\n",
       "      <th>categoryId</th>\n",
       "    </tr>\n",
       "  </thead>\n",
       "  <tbody>\n",
       "    <tr>\n",
       "      <th>0</th>\n",
       "      <td>27</td>\n",
       "      <td>BMC plant biology</td>\n",
       "      <td>ISI Q1/Q2</td>\n",
       "      <td>0</td>\n",
       "    </tr>\n",
       "    <tr>\n",
       "      <th>1</th>\n",
       "      <td>29</td>\n",
       "      <td>Rice</td>\n",
       "      <td>ISI Q1/Q2</td>\n",
       "      <td>0</td>\n",
       "    </tr>\n",
       "    <tr>\n",
       "      <th>2</th>\n",
       "      <td>35</td>\n",
       "      <td>Sensors</td>\n",
       "      <td>ISI Q1/Q2</td>\n",
       "      <td>0</td>\n",
       "    </tr>\n",
       "    <tr>\n",
       "      <th>3</th>\n",
       "      <td>41</td>\n",
       "      <td>Sensors</td>\n",
       "      <td>ISI Q1/Q2</td>\n",
       "      <td>0</td>\n",
       "    </tr>\n",
       "    <tr>\n",
       "      <th>4</th>\n",
       "      <td>43</td>\n",
       "      <td>IEEE Transactions on Knowledge and Data Engine...</td>\n",
       "      <td>ISI Q1/Q2</td>\n",
       "      <td>0</td>\n",
       "    </tr>\n",
       "  </tbody>\n",
       "</table>\n",
       "</div>"
      ],
      "text/plain": [
       "   id                                              venue   category  \\\n",
       "0  27                                  BMC plant biology  ISI Q1/Q2   \n",
       "1  29                                               Rice  ISI Q1/Q2   \n",
       "2  35                                            Sensors  ISI Q1/Q2   \n",
       "3  41                                            Sensors  ISI Q1/Q2   \n",
       "4  43  IEEE Transactions on Knowledge and Data Engine...  ISI Q1/Q2   \n",
       "\n",
       "   categoryId  \n",
       "0           0  \n",
       "1           0  \n",
       "2           0  \n",
       "3           0  \n",
       "4           0  "
      ]
     },
     "execution_count": 5,
     "metadata": {},
     "output_type": "execute_result"
    }
   ],
   "source": [
    "dataset[\"categoryId\"] = dataset[\"category\"].factorize()[0]\n",
    "dataset.head()"
   ]
  },
  {
   "cell_type": "code",
   "execution_count": 6,
   "metadata": {},
   "outputs": [
    {
     "data": {
      "text/html": [
       "<div>\n",
       "<style scoped>\n",
       "    .dataframe tbody tr th:only-of-type {\n",
       "        vertical-align: middle;\n",
       "    }\n",
       "\n",
       "    .dataframe tbody tr th {\n",
       "        vertical-align: top;\n",
       "    }\n",
       "\n",
       "    .dataframe thead th {\n",
       "        text-align: right;\n",
       "    }\n",
       "</style>\n",
       "<table border=\"1\" class=\"dataframe\">\n",
       "  <thead>\n",
       "    <tr style=\"text-align: right;\">\n",
       "      <th></th>\n",
       "      <th>category</th>\n",
       "      <th>categoryId</th>\n",
       "    </tr>\n",
       "  </thead>\n",
       "  <tbody>\n",
       "    <tr>\n",
       "      <th>0</th>\n",
       "      <td>ISI Q1/Q2</td>\n",
       "      <td>0</td>\n",
       "    </tr>\n",
       "    <tr>\n",
       "      <th>1101</th>\n",
       "      <td>ISI Q3/Q4</td>\n",
       "      <td>1</td>\n",
       "    </tr>\n",
       "    <tr>\n",
       "      <th>1369</th>\n",
       "      <td>Scopus Journal</td>\n",
       "      <td>2</td>\n",
       "    </tr>\n",
       "    <tr>\n",
       "      <th>1630</th>\n",
       "      <td>International Conf</td>\n",
       "      <td>3</td>\n",
       "    </tr>\n",
       "    <tr>\n",
       "      <th>2730</th>\n",
       "      <td>Domestic Journal</td>\n",
       "      <td>4</td>\n",
       "    </tr>\n",
       "    <tr>\n",
       "      <th>3390</th>\n",
       "      <td>Domestic Conf</td>\n",
       "      <td>5</td>\n",
       "    </tr>\n",
       "    <tr>\n",
       "      <th>3595</th>\n",
       "      <td>Book chapter</td>\n",
       "      <td>6</td>\n",
       "    </tr>\n",
       "    <tr>\n",
       "      <th>3629</th>\n",
       "      <td>Patent</td>\n",
       "      <td>7</td>\n",
       "    </tr>\n",
       "    <tr>\n",
       "      <th>3677</th>\n",
       "      <td>Scopus Conf</td>\n",
       "      <td>8</td>\n",
       "    </tr>\n",
       "    <tr>\n",
       "      <th>4319</th>\n",
       "      <td>Book</td>\n",
       "      <td>9</td>\n",
       "    </tr>\n",
       "    <tr>\n",
       "      <th>4326</th>\n",
       "      <td>International Journal</td>\n",
       "      <td>10</td>\n",
       "    </tr>\n",
       "    <tr>\n",
       "      <th>4545</th>\n",
       "      <td>Technical report</td>\n",
       "      <td>11</td>\n",
       "    </tr>\n",
       "  </tbody>\n",
       "</table>\n",
       "</div>"
      ],
      "text/plain": [
       "                   category  categoryId\n",
       "0                 ISI Q1/Q2           0\n",
       "1101              ISI Q3/Q4           1\n",
       "1369         Scopus Journal           2\n",
       "1630     International Conf           3\n",
       "2730       Domestic Journal           4\n",
       "3390          Domestic Conf           5\n",
       "3595           Book chapter           6\n",
       "3629                 Patent           7\n",
       "3677            Scopus Conf           8\n",
       "4319                   Book           9\n",
       "4326  International Journal          10\n",
       "4545      Technical report           11"
      ]
     },
     "execution_count": 6,
     "metadata": {},
     "output_type": "execute_result"
    }
   ],
   "source": [
    "category = dataset[['category', 'categoryId']].drop_duplicates().sort_values('categoryId')\n",
    "category"
   ]
  },
  {
   "cell_type": "code",
   "execution_count": 7,
   "metadata": {},
   "outputs": [
    {
     "data": {
      "image/png": "[encoded data removed]",
      "text/plain": [
       "<Figure size 640x480 with 1 Axes>"
      ]
     },
     "metadata": {},
     "output_type": "display_data"
    }
   ],
   "source": [
    "dataset.groupby('category').categoryId.value_counts().plot(kind = \"bar\", color = [\"pink\", \"orange\", \"red\", \"yellow\", \"blue\"])\n",
    "plt.xlabel(\"category of data\")\n",
    "plt.title(\"Visulaize numbers of Category of data\")\n",
    "plt.show()"
   ]
  },
  {
   "cell_type": "code",
   "execution_count": 8,
   "metadata": {},
   "outputs": [
    {
     "data": {
      "text/plain": [
       "0                                       bmc plant biology\n",
       "1                                                    rice\n",
       "2                                                 sensors\n",
       "3                                                 sensors\n",
       "4       ieee transactions on knowledge and data engine...\n",
       "                              ...                        \n",
       "4614    international scientific conference on current...\n",
       "4615                        arxiv preprint arxiv231111732\n",
       "4616                                              biorxiv\n",
       "4617                        arxiv preprint arxiv231115525\n",
       "4618                        arxiv preprint arxiv231115525\n",
       "Name: venue, Length: 4619, dtype: object"
      ]
     },
     "execution_count": 8,
     "metadata": {},
     "output_type": "execute_result"
    }
   ],
   "source": [
    "def remove_specialchar(text):\n",
    "   text = re.sub('[^a-zA-Z0-9 ]', '', text)\n",
    "   return text.lower()\n",
    "dataset['venue'] = dataset['venue'].apply(remove_specialchar)\n",
    "dataset['venue']"
   ]
  },
  {
   "cell_type": "code",
   "execution_count": 9,
   "metadata": {},
   "outputs": [],
   "source": [
    "# def remove_stopwords(text):\n",
    "#   stop_words = set(stopwords.words('english'))\n",
    "#   words = word_tokenize(text)\n",
    "#   return \"\".join([x for x in words if x not in stop_words])\n",
    "# dataset['venue'] = dataset['venue'].apply(remove_stopwords)\n",
    "# dataset['venue'][1]\n",
    "\n",
    "# def lemmatize_word(text):\n",
    "#   wordnet = WordNetLemmatizer()\n",
    "#   return \" \".join([wordnet.lemmatize(word) for word in text])\n",
    "# dataset['venue'] = dataset['venue'].apply(lemmatize_word)\n",
    "# dataset['venue'][1]"
   ]
  },
  {
   "cell_type": "code",
   "execution_count": 10,
   "metadata": {},
   "outputs": [
    {
     "data": {
      "text/html": [
       "<div>\n",
       "<style scoped>\n",
       "    .dataframe tbody tr th:only-of-type {\n",
       "        vertical-align: middle;\n",
       "    }\n",
       "\n",
       "    .dataframe tbody tr th {\n",
       "        vertical-align: top;\n",
       "    }\n",
       "\n",
       "    .dataframe thead th {\n",
       "        text-align: right;\n",
       "    }\n",
       "</style>\n",
       "<table border=\"1\" class=\"dataframe\">\n",
       "  <thead>\n",
       "    <tr style=\"text-align: right;\">\n",
       "      <th></th>\n",
       "      <th>id</th>\n",
       "      <th>venue</th>\n",
       "      <th>category</th>\n",
       "      <th>categoryId</th>\n",
       "    </tr>\n",
       "  </thead>\n",
       "  <tbody>\n",
       "    <tr>\n",
       "      <th>0</th>\n",
       "      <td>27</td>\n",
       "      <td>bmc plant biology</td>\n",
       "      <td>ISI Q1/Q2</td>\n",
       "      <td>0</td>\n",
       "    </tr>\n",
       "    <tr>\n",
       "      <th>1</th>\n",
       "      <td>29</td>\n",
       "      <td>rice</td>\n",
       "      <td>ISI Q1/Q2</td>\n",
       "      <td>0</td>\n",
       "    </tr>\n",
       "    <tr>\n",
       "      <th>2</th>\n",
       "      <td>35</td>\n",
       "      <td>sensors</td>\n",
       "      <td>ISI Q1/Q2</td>\n",
       "      <td>0</td>\n",
       "    </tr>\n",
       "    <tr>\n",
       "      <th>3</th>\n",
       "      <td>41</td>\n",
       "      <td>sensors</td>\n",
       "      <td>ISI Q1/Q2</td>\n",
       "      <td>0</td>\n",
       "    </tr>\n",
       "    <tr>\n",
       "      <th>4</th>\n",
       "      <td>43</td>\n",
       "      <td>ieee transactions on knowledge and data engine...</td>\n",
       "      <td>ISI Q1/Q2</td>\n",
       "      <td>0</td>\n",
       "    </tr>\n",
       "    <tr>\n",
       "      <th>...</th>\n",
       "      <td>...</td>\n",
       "      <td>...</td>\n",
       "      <td>...</td>\n",
       "      <td>...</td>\n",
       "    </tr>\n",
       "    <tr>\n",
       "      <th>4614</th>\n",
       "      <td>23007</td>\n",
       "      <td>international scientific conference on current...</td>\n",
       "      <td>Technical report</td>\n",
       "      <td>11</td>\n",
       "    </tr>\n",
       "    <tr>\n",
       "      <th>4615</th>\n",
       "      <td>23515</td>\n",
       "      <td>arxiv preprint arxiv231111732</td>\n",
       "      <td>Technical report</td>\n",
       "      <td>11</td>\n",
       "    </tr>\n",
       "    <tr>\n",
       "      <th>4616</th>\n",
       "      <td>24361</td>\n",
       "      <td>biorxiv</td>\n",
       "      <td>Technical report</td>\n",
       "      <td>11</td>\n",
       "    </tr>\n",
       "    <tr>\n",
       "      <th>4617</th>\n",
       "      <td>24474</td>\n",
       "      <td>arxiv preprint arxiv231115525</td>\n",
       "      <td>Technical report</td>\n",
       "      <td>11</td>\n",
       "    </tr>\n",
       "    <tr>\n",
       "      <th>4618</th>\n",
       "      <td>24480</td>\n",
       "      <td>arxiv preprint arxiv231115525</td>\n",
       "      <td>Technical report</td>\n",
       "      <td>11</td>\n",
       "    </tr>\n",
       "  </tbody>\n",
       "</table>\n",
       "<p>4619 rows × 4 columns</p>\n",
       "</div>"
      ],
      "text/plain": [
       "         id                                              venue  \\\n",
       "0        27                                  bmc plant biology   \n",
       "1        29                                               rice   \n",
       "2        35                                            sensors   \n",
       "3        41                                            sensors   \n",
       "4        43  ieee transactions on knowledge and data engine...   \n",
       "...     ...                                                ...   \n",
       "4614  23007  international scientific conference on current...   \n",
       "4615  23515                      arxiv preprint arxiv231111732   \n",
       "4616  24361                                            biorxiv   \n",
       "4617  24474                      arxiv preprint arxiv231115525   \n",
       "4618  24480                      arxiv preprint arxiv231115525   \n",
       "\n",
       "               category  categoryId  \n",
       "0             ISI Q1/Q2           0  \n",
       "1             ISI Q1/Q2           0  \n",
       "2             ISI Q1/Q2           0  \n",
       "3             ISI Q1/Q2           0  \n",
       "4             ISI Q1/Q2           0  \n",
       "...                 ...         ...  \n",
       "4614  Technical report           11  \n",
       "4615  Technical report           11  \n",
       "4616  Technical report           11  \n",
       "4617  Technical report           11  \n",
       "4618  Technical report           11  \n",
       "\n",
       "[4619 rows x 4 columns]"
      ]
     },
     "execution_count": 10,
     "metadata": {},
     "output_type": "execute_result"
    }
   ],
   "source": [
    "dataset"
   ]
  },
  {
   "cell_type": "code",
   "execution_count": 11,
   "metadata": {},
   "outputs": [
    {
     "name": "stdout",
     "output_type": "stream",
     "text": [
      "x.shape =  (4619, 1837)\n",
      "y.shape =  (4619,)\n"
     ]
    }
   ],
   "source": [
    "cv = CountVectorizer(max_features = 5000)\n",
    "x = cv.fit_transform(dataset.venue.values).toarray()\n",
    "y = np.array(dataset.categoryId.values)\n",
    "print(\"x.shape = \",x.shape)\n",
    "print(\"y.shape = \",y.shape)"
   ]
  },
  {
   "cell_type": "code",
   "execution_count": 12,
   "metadata": {},
   "outputs": [
    {
     "name": "stdout",
     "output_type": "stream",
     "text": [
      "3233\n",
      "1386\n"
     ]
    }
   ],
   "source": [
    "x_train, x_test, y_train, y_test = train_test_split(x, y, test_size = 0.3, random_state = 0, shuffle = True)\n",
    "print(len(x_train))\n",
    "print(len(x_test))"
   ]
  },
  {
   "cell_type": "code",
   "execution_count": 13,
   "metadata": {},
   "outputs": [],
   "source": [
    "#create list of model and accuracy dicts\n",
    "perform_list = [ ]\n",
    "def run_model(model_name):\n",
    "  mdl=''\n",
    "  if model_name == 'Logistic Regression':\n",
    "    mdl = LogisticRegression()\n",
    "  elif model_name == 'Random Forest':\n",
    "    mdl = RandomForestClassifier(n_estimators=100 ,criterion='entropy' , random_state=0)\n",
    "  elif model_name == 'Multinomial Naive Bayes':\n",
    "    mdl = MultinomialNB(alpha=1.0,fit_prior=True)\n",
    "  elif model_name == 'Support Vector Classifer':\n",
    "    mdl = SVC()\n",
    "  elif model_name == 'Decision Tree Classifier':\n",
    "    mdl = DecisionTreeClassifier()\n",
    "  elif model_name == 'K Nearest Neighbour':\n",
    "    mdl = KNeighborsClassifier(n_neighbors=10 , metric= 'minkowski' , p = 4)\n",
    "  elif model_name == 'Gaussian Naive Bayes':\n",
    "    mdl = GaussianNB()\n",
    "  \n",
    "  oneVsRest = OneVsRestClassifier(mdl)\n",
    "  oneVsRest.fit(x_train, y_train)\n",
    "  y_pred = oneVsRest.predict(x_test)\n",
    "  \n",
    "  # Performance metrics\n",
    "  accuracy = round(accuracy_score(y_test, y_pred) * 100, 2)\n",
    "  \n",
    "  # Get precision, recall, f1 scores\n",
    "  precision, recall, f1score, support = score(y_test, y_pred, average='micro')\n",
    "  \n",
    "  print(f'Test Accuracy Score of Basic {model_name}: % {accuracy}')\n",
    "  print(f'Precision : {precision}')\n",
    "  print(f'Recall : {recall}')\n",
    "  print(f'F1-score : {f1score}')\n",
    "  \n",
    "  # Add performance parameters to list\n",
    "  perform_list.append(dict([\n",
    "    ('Model', model_name),\n",
    "    ('Test Accuracy', round(accuracy, 2)),\n",
    "    ('Precision', round(precision, 2)),\n",
    "    ('Recall', round(recall, 2)),\n",
    "    ('F1', round(f1score, 2))\n",
    "    ]))"
   ]
  },
  {
   "cell_type": "code",
   "execution_count": 14,
   "metadata": {},
   "outputs": [
    {
     "name": "stdout",
     "output_type": "stream",
     "text": [
      "Test Accuracy Score of Basic Logistic Regression: % 78.64\n",
      "Precision : 0.7864357864357865\n",
      "Recall : 0.7864357864357865\n",
      "F1-score : 0.7864357864357865\n"
     ]
    }
   ],
   "source": [
    "run_model('Logistic Regression')"
   ]
  },
  {
   "cell_type": "code",
   "execution_count": 15,
   "metadata": {},
   "outputs": [
    {
     "name": "stdout",
     "output_type": "stream",
     "text": [
      "Test Accuracy Score of Basic Random Forest: % 81.75\n",
      "Precision : 0.8174603174603174\n",
      "Recall : 0.8174603174603174\n",
      "F1-score : 0.8174603174603174\n"
     ]
    }
   ],
   "source": [
    "run_model('Random Forest')"
   ]
  },
  {
   "cell_type": "code",
   "execution_count": 16,
   "metadata": {},
   "outputs": [
    {
     "name": "stdout",
     "output_type": "stream",
     "text": [
      "Test Accuracy Score of Basic Multinomial Naive Bayes: % 74.53\n",
      "Precision : 0.7453102453102453\n",
      "Recall : 0.7453102453102453\n",
      "F1-score : 0.7453102453102453\n"
     ]
    }
   ],
   "source": [
    "run_model('Multinomial Naive Bayes')"
   ]
  },
  {
   "cell_type": "code",
   "execution_count": 17,
   "metadata": {},
   "outputs": [
    {
     "name": "stdout",
     "output_type": "stream",
     "text": [
      "Test Accuracy Score of Basic Support Vector Classifer: % 78.64\n",
      "Precision : 0.7864357864357865\n",
      "Recall : 0.7864357864357865\n",
      "F1-score : 0.7864357864357865\n"
     ]
    }
   ],
   "source": [
    "run_model('Support Vector Classifer')"
   ]
  },
  {
   "cell_type": "code",
   "execution_count": 18,
   "metadata": {},
   "outputs": [
    {
     "name": "stdout",
     "output_type": "stream",
     "text": [
      "Test Accuracy Score of Basic Decision Tree Classifier: % 79.29\n",
      "Precision : 0.7929292929292929\n",
      "Recall : 0.7929292929292929\n",
      "F1-score : 0.7929292929292929\n"
     ]
    }
   ],
   "source": [
    "run_model('Decision Tree Classifier')"
   ]
  },
  {
   "cell_type": "code",
   "execution_count": 19,
   "metadata": {},
   "outputs": [],
   "source": [
    "# run_model('K Nearest Neighbour')"
   ]
  },
  {
   "cell_type": "code",
   "execution_count": 20,
   "metadata": {},
   "outputs": [
    {
     "name": "stdout",
     "output_type": "stream",
     "text": [
      "Test Accuracy Score of Basic Gaussian Naive Bayes: % 47.55\n",
      "Precision : 0.4754689754689755\n",
      "Recall : 0.4754689754689755\n",
      "F1-score : 0.4754689754689755\n"
     ]
    }
   ],
   "source": [
    "run_model('Gaussian Naive Bayes')"
   ]
  },
  {
   "cell_type": "code",
   "execution_count": 21,
   "metadata": {},
   "outputs": [
    {
     "data": {
      "text/html": [
       "<div>\n",
       "<style scoped>\n",
       "    .dataframe tbody tr th:only-of-type {\n",
       "        vertical-align: middle;\n",
       "    }\n",
       "\n",
       "    .dataframe tbody tr th {\n",
       "        vertical-align: top;\n",
       "    }\n",
       "\n",
       "    .dataframe thead th {\n",
       "        text-align: right;\n",
       "    }\n",
       "</style>\n",
       "<table border=\"1\" class=\"dataframe\">\n",
       "  <thead>\n",
       "    <tr style=\"text-align: right;\">\n",
       "      <th></th>\n",
       "      <th>Model</th>\n",
       "      <th>Test Accuracy</th>\n",
       "      <th>Precision</th>\n",
       "      <th>Recall</th>\n",
       "      <th>F1</th>\n",
       "    </tr>\n",
       "  </thead>\n",
       "  <tbody>\n",
       "    <tr>\n",
       "      <th>0</th>\n",
       "      <td>Logistic Regression</td>\n",
       "      <td>78.64</td>\n",
       "      <td>0.79</td>\n",
       "      <td>0.79</td>\n",
       "      <td>0.79</td>\n",
       "    </tr>\n",
       "    <tr>\n",
       "      <th>1</th>\n",
       "      <td>Random Forest</td>\n",
       "      <td>81.75</td>\n",
       "      <td>0.82</td>\n",
       "      <td>0.82</td>\n",
       "      <td>0.82</td>\n",
       "    </tr>\n",
       "    <tr>\n",
       "      <th>2</th>\n",
       "      <td>Multinomial Naive Bayes</td>\n",
       "      <td>74.53</td>\n",
       "      <td>0.75</td>\n",
       "      <td>0.75</td>\n",
       "      <td>0.75</td>\n",
       "    </tr>\n",
       "    <tr>\n",
       "      <th>3</th>\n",
       "      <td>Support Vector Classifer</td>\n",
       "      <td>78.64</td>\n",
       "      <td>0.79</td>\n",
       "      <td>0.79</td>\n",
       "      <td>0.79</td>\n",
       "    </tr>\n",
       "    <tr>\n",
       "      <th>4</th>\n",
       "      <td>Decision Tree Classifier</td>\n",
       "      <td>79.29</td>\n",
       "      <td>0.79</td>\n",
       "      <td>0.79</td>\n",
       "      <td>0.79</td>\n",
       "    </tr>\n",
       "    <tr>\n",
       "      <th>5</th>\n",
       "      <td>Gaussian Naive Bayes</td>\n",
       "      <td>47.55</td>\n",
       "      <td>0.48</td>\n",
       "      <td>0.48</td>\n",
       "      <td>0.48</td>\n",
       "    </tr>\n",
       "  </tbody>\n",
       "</table>\n",
       "</div>"
      ],
      "text/plain": [
       "                      Model  Test Accuracy  Precision  Recall    F1\n",
       "0       Logistic Regression          78.64       0.79    0.79  0.79\n",
       "1             Random Forest          81.75       0.82    0.82  0.82\n",
       "2   Multinomial Naive Bayes          74.53       0.75    0.75  0.75\n",
       "3  Support Vector Classifer          78.64       0.79    0.79  0.79\n",
       "4  Decision Tree Classifier          79.29       0.79    0.79  0.79\n",
       "5      Gaussian Naive Bayes          47.55       0.48    0.48  0.48"
      ]
     },
     "execution_count": 21,
     "metadata": {},
     "output_type": "execute_result"
    }
   ],
   "source": [
    "model_performance = pd.DataFrame(data=perform_list)\n",
    "model_performance = model_performance[['Model', 'Test Accuracy', 'Precision', 'Recall', 'F1']]\n",
    "model_performance"
   ]
  },
  {
   "cell_type": "code",
   "execution_count": 22,
   "metadata": {},
   "outputs": [
    {
     "name": "stdout",
     "output_type": "stream",
     "text": [
      "The best accuracy of model is 81.75 from Random\n"
     ]
    }
   ],
   "source": [
    "model = model_performance[\"Model\"]\n",
    "max_value = model_performance[\"Test Accuracy\"].max()\n",
    "print(\"The best accuracy of model is\", max_value,\"from Random\")"
   ]
  },
  {
   "cell_type": "code",
   "execution_count": 23,
   "metadata": {},
   "outputs": [
    {
     "data": {
      "text/plain": [
       "array([ 0,  0,  0, ..., 10,  3,  3], dtype=int64)"
      ]
     },
     "execution_count": 23,
     "metadata": {},
     "output_type": "execute_result"
    }
   ],
   "source": [
    "classifier = RandomForestClassifier(n_estimators=100 ,criterion='entropy' , random_state=0).fit(x_train, y_train)\n",
    "y_pred = classifier.predict(x_test)\n",
    "y_pred"
   ]
  },
  {
   "cell_type": "code",
   "execution_count": 24,
   "metadata": {},
   "outputs": [
    {
     "data": {
      "text/plain": [
       "0    ISI Q1/Q2\n",
       "Name: category, dtype: object"
      ]
     },
     "execution_count": 24,
     "metadata": {},
     "output_type": "execute_result"
    }
   ],
   "source": [
    "y_pred1 = cv.transform(['Sensors'])\n",
    "yy = classifier.predict(y_pred1)\n",
    "dataset[dataset.categoryId == yy[0]].category.drop_duplicates()"
   ]
  },
  {
   "cell_type": "code",
   "execution_count": null,
   "metadata": {},
   "outputs": [],
   "source": []
  }
 ],
 "metadata": {
  "kernelspec": {
   "display_name": "venv",
   "language": "python",
   "name": "python3"
  },
  "language_info": {
   "codemirror_mode": {
    "name": "ipython",
    "version": 3
   },
   "file_extension": ".py",
   "mimetype": "text/x-python",
   "name": "python",
   "nbconvert_exporter": "python",
   "pygments_lexer": "ipython3",
   "version": "3.10.11"
  }
 },
 "nbformat": 4,
 "nbformat_minor": 2
}
